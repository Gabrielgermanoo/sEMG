{
 "cells": [
  {
   "cell_type": "markdown",
   "metadata": {},
   "source": [
    "## Bibliotecas"
   ]
  },
  {
   "cell_type": "code",
   "execution_count": 1,
   "metadata": {},
   "outputs": [],
   "source": [
    "import scipy.io\n",
    "import pickle\n",
    "import numpy as np\n",
    "import pandas as pd\n",
    "from joblib import load"
   ]
  },
  {
   "cell_type": "markdown",
   "metadata": {},
   "source": [
    "## Funções úteis"
   ]
  },
  {
   "cell_type": "code",
   "execution_count": 2,
   "metadata": {},
   "outputs": [],
   "source": [
    "def count_values(data):\n",
    "  unique, counts = np.unique(data, return_counts=True)\n",
    "\n",
    "  data_dict = dict(zip(unique, counts))\n",
    "  return data_dict"
   ]
  },
  {
   "cell_type": "code",
   "execution_count": 3,
   "metadata": {},
   "outputs": [
    {
     "name": "stdout",
     "output_type": "stream",
     "text": [
      "{0: 49599, 1: 6753, 2: 6656, 3: 6613, 4: 6654, 5: 6782, 6: 6776, 7: 6776, 8: 6795, 9: 6626, 10: 6696, 11: 6773, 12: 6768}\n",
      "{0: 65453, 1: 6822, 2: 6787, 3: 6668, 4: 6788, 5: 6666, 6: 6808, 7: 6795, 8: 6808, 9: 6796, 10: 6609, 11: 6618, 12: 6777, 13: 6784, 14: 6672, 15: 6662, 16: 6623, 17: 6765}\n",
      "{0: 104387, 1: 6624, 2: 6777, 3: 6620, 4: 6787, 5: 6611, 6: 6628, 7: 6661, 8: 6819, 9: 6606, 10: 6792, 11: 6791, 12: 6799, 13: 6789, 14: 6652, 15: 6605, 16: 6610, 17: 6789, 18: 6795, 19: 6776, 20: 6597, 21: 6666, 22: 6590, 23: 6601}\n"
     ]
    },
    {
     "data": {
      "text/plain": [
       "array([[ 0],\n",
       "       [ 0],\n",
       "       [ 0],\n",
       "       ...,\n",
       "       [12],\n",
       "       [12],\n",
       "       [12]], dtype=int8)"
      ]
     },
     "execution_count": 3,
     "metadata": {},
     "output_type": "execute_result"
    }
   ],
   "source": [
    "E1 = scipy.io.loadmat(f\"./data/S1/S1_E1_A1.mat\") # Exercise A\n",
    "E2 = scipy.io.loadmat(f\"./data/S1/S1_E2_A1.mat\") # Exercise B\n",
    "E3 = scipy.io.loadmat(f\"./data/S1/S1_E3_A1.mat\") # Exercise C\n",
    "\n",
    "print(count_values(E1[\"stimulus\"]))\n",
    "print(count_values(E2[\"stimulus\"]))\n",
    "print(count_values(E3[\"stimulus\"]))\n",
    "E1[\"stimulus\"]"
   ]
  },
  {
   "cell_type": "markdown",
   "metadata": {},
   "source": [
    "## Conversão dos dados para python"
   ]
  },
  {
   "cell_type": "code",
   "execution_count": 5,
   "metadata": {},
   "outputs": [],
   "source": [
    "n_subjects = 10\n",
    "files = [f\"S{x}\" for x in range(1,n_subjects+1)] \n",
    "data = dict()\n",
    "for file in files:\n",
    "  E1 = scipy.io.loadmat(f\"./data/{file}/{file}_E1_A1.mat\") # Exercise A\n",
    "  E2 = scipy.io.loadmat(f\"./data/{file}/{file}_E2_A1.mat\") # Exercise B\n",
    "  E3 = scipy.io.loadmat(f\"./data/{file}/{file}_E3_A1.mat\") # Exercise C\n",
    "  \n",
    "  # Movimento 0 é o movimento de repouso, então é subtraído 12 e 29 para os experimentos 2 e 3\n",
    "  E2[\"stimulus\"][np.where(E2[\"stimulus\"]==0)] = E2[\"stimulus\"][np.where(E2[\"stimulus\"]==0)]-12\n",
    "  E3[\"stimulus\"][np.where(E3[\"stimulus\"]==0)] = E3[\"stimulus\"][np.where(E3[\"stimulus\"]==0)]-29\n",
    "  \n",
    "  data[file] = {\n",
    "    'emg':np.concatenate([E1[\"emg\"], E2['emg'], E3['emg']]),\n",
    "    'label':np.concatenate([E1[\"stimulus\"], E2[\"stimulus\"]+12, E3[\"stimulus\"] +29]),\n",
    "    'info':{\n",
    "      'age':E1['age'],\n",
    "      'gender':E1['gender'], \n",
    "      'n_subjects':10,\n",
    "      'weight':E1['weight'], \n",
    "      'height':E1['height'],\n",
    "      'fs':E1[\"frequency\"][0][0]\n",
    "    }, \n",
    "    'description': \"Contiene datos de EMG de 10 sujetos, 3 experimentos por cada sujeto (E1, E2 y E3) (A, B y C de la figura), cada experimento contiene diferentes ejercicios (A:12, B:17, C:23).\"\n",
    "  }"
   ]
  },
  {
   "cell_type": "code",
   "execution_count": 6,
   "metadata": {},
   "outputs": [],
   "source": [
    "with open(\"./data/MyoArmband_data.pickle\", \"wb\") as f:\n",
    "  pickle.dump(data, f)"
   ]
  },
  {
   "cell_type": "markdown",
   "metadata": {},
   "source": [
    "## Mapeamento dos movimentos\n",
    "Para mais detalhes sobre os movimentos, acesse o [NinaPro](https://ninapro.hevs.ch/instructions/DB5.html)"
   ]
  },
  {
   "cell_type": "code",
   "execution_count": 9,
   "metadata": {},
   "outputs": [],
   "source": [
    "movements_dict = {\n",
    "  0: \"Rest\",\n",
    "  1: \"Index flexion\",\n",
    "  2: \"Index extension\",\n",
    "  3: \"Middle flexion\",\n",
    "  4: \"Middle extension\",\n",
    "  5: \"Ring flexion\",\n",
    "  6: \"Ring extension\",\n",
    "  7: \"Little_flexion\",\n",
    "  8: \"Little extension\",\n",
    "  9: \"Thumb adduction\",\n",
    "  10: \"Thumb abduction\",\n",
    "  11: \"Thumb flexion\",\n",
    "  12: \"Thumb extension\",\n",
    "  13: \"Thumb up\",\n",
    "  14: \"Extesion index and middle, flexion the others\",\n",
    "  15: \"Flexion ring and little, extension the others\",\n",
    "  16: \"Thumb opposing base little of finger\",\n",
    "  17: \"Abduction of all fingers\",\n",
    "  18: \"Fingers flexed together in fist\",\n",
    "  19: \"Pointing index\",\n",
    "  20: \"Adductiion of extended fingers\",\n",
    "  21: \"Wrist supination (axis: middle finger)\",\n",
    "  22: \"Wrist pronation (axis: middle finger)\",\n",
    "  23: \"Wrist supination (axis: little finger)\",\n",
    "  24: \"Wrist pronation (axis: little finger)\",\n",
    "  25: \"Wrist flexion\",\n",
    "  26: \"Wrist extension\",\n",
    "  27: \"Wrist radial deviation\",\n",
    "  28: \"Wrist ulnar deviation\",\n",
    "  29: \"Wrist extension with closed hand\",\n",
    "  30: \"Large diameter grasp\",\n",
    "  31: \"Small diameter grasp (power grip)\",\n",
    "  32: \"Fixed hook grasp\",\n",
    "  33: \"Index finger extension grasp\",\n",
    "  34: \"Medium wrap\",\n",
    "  35: \"Ring grasp\",\n",
    "  36: \"Prismatics four fingers grasp\",\n",
    "  37: \"Stick grasp\",\n",
    "  38: \"Writting tripod grasp\",\n",
    "  39: \"Power sphere grasp\",\n",
    "  40: \"Three finger sphere grasp\",\n",
    "  41: \"Precision sphere grasp\",\n",
    "  42: \"Trripod grasp\",\n",
    "  43: \"Prismatic pinch grasp\",\n",
    "  44: \"Tip pinch grasp\",\n",
    "  45: \"Quadpod grasp\",\n",
    "  46: \"Lateral grasp\",\n",
    "  47: \"Parallel extension grasp\",\n",
    "  48: \"Extension type grasp\",\n",
    "  49: \"Power disk grasp\",\n",
    "  50: \"Open a bottle with a tripod grasp\",\n",
    "  51: \"Turn a screw\",\n",
    "  52: \"Cut something\",\n",
    "}"
   ]
  },
  {
   "cell_type": "markdown",
   "metadata": {},
   "source": [
    "## Separar os dados por movimento\n",
    "obs: rodar o notebook featuresCalc.ipynb antes para gerar os dados com as features"
   ]
  },
  {
   "cell_type": "code",
   "execution_count": 10,
   "metadata": {},
   "outputs": [
    {
     "ename": "FileNotFoundError",
     "evalue": "[Errno 2] No such file or directory: '../data/features_df.joblib'",
     "output_type": "error",
     "traceback": [
      "\u001b[0;31m---------------------------------------------------------------------------\u001b[0m",
      "\u001b[0;31mFileNotFoundError\u001b[0m                         Traceback (most recent call last)",
      "Cell \u001b[0;32mIn[10], line 1\u001b[0m\n\u001b[0;32m----> 1\u001b[0m df \u001b[38;5;241m=\u001b[39m \u001b[43mload\u001b[49m\u001b[43m(\u001b[49m\u001b[38;5;124;43m\"\u001b[39;49m\u001b[38;5;124;43m../data/features_df.joblib\u001b[39;49m\u001b[38;5;124;43m\"\u001b[39;49m\u001b[43m)\u001b[49m\n\u001b[1;32m      2\u001b[0m df \u001b[38;5;241m=\u001b[39m df\u001b[38;5;241m.\u001b[39mround(\u001b[38;5;241m2\u001b[39m)\n\u001b[1;32m      3\u001b[0m df\n",
      "File \u001b[0;32m~/Desktop/code/.venv/lib/python3.12/site-packages/joblib/numpy_pickle.py:650\u001b[0m, in \u001b[0;36mload\u001b[0;34m(filename, mmap_mode)\u001b[0m\n\u001b[1;32m    648\u001b[0m         obj \u001b[38;5;241m=\u001b[39m _unpickle(fobj)\n\u001b[1;32m    649\u001b[0m \u001b[38;5;28;01melse\u001b[39;00m:\n\u001b[0;32m--> 650\u001b[0m     \u001b[38;5;28;01mwith\u001b[39;00m \u001b[38;5;28;43mopen\u001b[39;49m\u001b[43m(\u001b[49m\u001b[43mfilename\u001b[49m\u001b[43m,\u001b[49m\u001b[43m \u001b[49m\u001b[38;5;124;43m'\u001b[39;49m\u001b[38;5;124;43mrb\u001b[39;49m\u001b[38;5;124;43m'\u001b[39;49m\u001b[43m)\u001b[49m \u001b[38;5;28;01mas\u001b[39;00m f:\n\u001b[1;32m    651\u001b[0m         \u001b[38;5;28;01mwith\u001b[39;00m _read_fileobject(f, filename, mmap_mode) \u001b[38;5;28;01mas\u001b[39;00m fobj:\n\u001b[1;32m    652\u001b[0m             \u001b[38;5;28;01mif\u001b[39;00m \u001b[38;5;28misinstance\u001b[39m(fobj, \u001b[38;5;28mstr\u001b[39m):\n\u001b[1;32m    653\u001b[0m                 \u001b[38;5;66;03m# if the returned file object is a string, this means we\u001b[39;00m\n\u001b[1;32m    654\u001b[0m                 \u001b[38;5;66;03m# try to load a pickle file generated with an version of\u001b[39;00m\n\u001b[1;32m    655\u001b[0m                 \u001b[38;5;66;03m# Joblib so we load it with joblib compatibility function.\u001b[39;00m\n",
      "\u001b[0;31mFileNotFoundError\u001b[0m: [Errno 2] No such file or directory: '../data/features_df.joblib'"
     ]
    }
   ],
   "source": [
    "df = load(\"../data/features_df.joblib\")\n",
    "df = df.round(2)\n",
    "df"
   ]
  },
  {
   "cell_type": "code",
   "execution_count": 18,
   "metadata": {},
   "outputs": [],
   "source": [
    "path = \"../../prototype/data/features\"\n",
    "for i in movements_dict:\n",
    "  df_i = df[df['mov'] == i]\n",
    "  df_i.to_csv(f\"{path}/{i}.csv\", index=False)"
   ]
  }
 ],
 "metadata": {
  "kernelspec": {
   "display_name": "Python 3 (ipykernel)",
   "language": "python",
   "name": "python3"
  },
  "language_info": {
   "codemirror_mode": {
    "name": "ipython",
    "version": 3
   },
   "file_extension": ".py",
   "mimetype": "text/x-python",
   "name": "python",
   "nbconvert_exporter": "python",
   "pygments_lexer": "ipython3",
   "version": "3.12.7"
  }
 },
 "nbformat": 4,
 "nbformat_minor": 4
}
